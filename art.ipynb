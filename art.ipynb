{
  "nbformat": 4,
  "nbformat_minor": 0,
  "metadata": {
    "accelerator": "GPU",
    "colab": {
      "name": "art.ipynb",
      "provenance": [],
      "collapsed_sections": [],
      "authorship_tag": "ABX9TyOatYSDybaK01x4+pR+uNb2",
      "include_colab_link": true
    },
    "kernelspec": {
      "display_name": "Python 3",
      "name": "python3"
    },
    "language_info": {
      "name": "python"
    }
  },
  "cells": [
    {
      "cell_type": "markdown",
      "metadata": {
        "id": "view-in-github",
        "colab_type": "text"
      },
      "source": [
        "<a href=\"https://colab.research.google.com/github/Malaaaa/final/blob/main/art.ipynb\" target=\"_parent\"><img src=\"https://colab.research.google.com/assets/colab-badge.svg\" alt=\"Open In Colab\"/></a>"
      ]
    },
    {
      "cell_type": "code",
      "metadata": {
        "colab": {
          "base_uri": "https://localhost:8080/"
        },
        "id": "ZfO7PzttRWdv",
        "outputId": "1f65fc32-f43a-40c7-8514-bcb7762999d2"
      },
      "source": [
        "  from google.colab import drive\n",
        "  import gc\n",
        "  gc.collect()\n",
        "  \n",
        "  drive.mount('/content/drive') \n"
      ],
      "execution_count": 3,
      "outputs": [
        {
          "output_type": "stream",
          "text": [
            "Drive already mounted at /content/drive; to attempt to forcibly remount, call drive.mount(\"/content/drive\", force_remount=True).\n"
          ],
          "name": "stdout"
        }
      ]
    },
    {
      "cell_type": "code",
      "metadata": {
        "colab": {
          "base_uri": "https://localhost:8080/"
        },
        "id": "PLMMZqhdRz7z",
        "outputId": "0011b876-9113-4414-c79d-c01fb6cc681e"
      },
      "source": [
        "import os\n",
        "import numpy as np\n",
        "import nibabel as nib \n",
        "from nibabel import  processing\n",
        "import matplotlib.pyplot as plt \n",
        "import tensorflow as tf\n",
        "%env SM_FRAMEWORK=tf.keras\n",
        "!pip install segmentation_models\n",
        "import segmentation_models as sm"
      ],
      "execution_count": 4,
      "outputs": [
        {
          "output_type": "stream",
          "text": [
            "env: SM_FRAMEWORK=tf.keras\n",
            "Requirement already satisfied: segmentation_models in /usr/local/lib/python3.7/dist-packages (1.0.1)\n",
            "Requirement already satisfied: efficientnet==1.0.0 in /usr/local/lib/python3.7/dist-packages (from segmentation_models) (1.0.0)\n",
            "Requirement already satisfied: image-classifiers==1.0.0 in /usr/local/lib/python3.7/dist-packages (from segmentation_models) (1.0.0)\n",
            "Requirement already satisfied: keras-applications<=1.0.8,>=1.0.7 in /usr/local/lib/python3.7/dist-packages (from segmentation_models) (1.0.8)\n",
            "Requirement already satisfied: scikit-image in /usr/local/lib/python3.7/dist-packages (from efficientnet==1.0.0->segmentation_models) (0.16.2)\n",
            "Requirement already satisfied: h5py in /usr/local/lib/python3.7/dist-packages (from keras-applications<=1.0.8,>=1.0.7->segmentation_models) (3.1.0)\n",
            "Requirement already satisfied: numpy>=1.9.1 in /usr/local/lib/python3.7/dist-packages (from keras-applications<=1.0.8,>=1.0.7->segmentation_models) (1.19.5)\n",
            "Requirement already satisfied: cached-property in /usr/local/lib/python3.7/dist-packages (from h5py->keras-applications<=1.0.8,>=1.0.7->segmentation_models) (1.5.2)\n",
            "Requirement already satisfied: matplotlib!=3.0.0,>=2.0.0 in /usr/local/lib/python3.7/dist-packages (from scikit-image->efficientnet==1.0.0->segmentation_models) (3.2.2)\n",
            "Requirement already satisfied: pillow>=4.3.0 in /usr/local/lib/python3.7/dist-packages (from scikit-image->efficientnet==1.0.0->segmentation_models) (7.1.2)\n",
            "Requirement already satisfied: networkx>=2.0 in /usr/local/lib/python3.7/dist-packages (from scikit-image->efficientnet==1.0.0->segmentation_models) (2.6.2)\n",
            "Requirement already satisfied: PyWavelets>=0.4.0 in /usr/local/lib/python3.7/dist-packages (from scikit-image->efficientnet==1.0.0->segmentation_models) (1.1.1)\n",
            "Requirement already satisfied: scipy>=0.19.0 in /usr/local/lib/python3.7/dist-packages (from scikit-image->efficientnet==1.0.0->segmentation_models) (1.4.1)\n",
            "Requirement already satisfied: imageio>=2.3.0 in /usr/local/lib/python3.7/dist-packages (from scikit-image->efficientnet==1.0.0->segmentation_models) (2.4.1)\n",
            "Requirement already satisfied: cycler>=0.10 in /usr/local/lib/python3.7/dist-packages (from matplotlib!=3.0.0,>=2.0.0->scikit-image->efficientnet==1.0.0->segmentation_models) (0.10.0)\n",
            "Requirement already satisfied: python-dateutil>=2.1 in /usr/local/lib/python3.7/dist-packages (from matplotlib!=3.0.0,>=2.0.0->scikit-image->efficientnet==1.0.0->segmentation_models) (2.8.2)\n",
            "Requirement already satisfied: pyparsing!=2.0.4,!=2.1.2,!=2.1.6,>=2.0.1 in /usr/local/lib/python3.7/dist-packages (from matplotlib!=3.0.0,>=2.0.0->scikit-image->efficientnet==1.0.0->segmentation_models) (2.4.7)\n",
            "Requirement already satisfied: kiwisolver>=1.0.1 in /usr/local/lib/python3.7/dist-packages (from matplotlib!=3.0.0,>=2.0.0->scikit-image->efficientnet==1.0.0->segmentation_models) (1.3.1)\n",
            "Requirement already satisfied: six in /usr/local/lib/python3.7/dist-packages (from cycler>=0.10->matplotlib!=3.0.0,>=2.0.0->scikit-image->efficientnet==1.0.0->segmentation_models) (1.15.0)\n",
            "Segmentation Models: using `tf.keras` framework.\n"
          ],
          "name": "stdout"
        }
      ]
    },
    {
      "cell_type": "code",
      "metadata": {
        "id": "-rP2enxASAq2"
      },
      "source": [
        "import pickle\n"
      ],
      "execution_count": 5,
      "outputs": []
    },
    {
      "cell_type": "code",
      "metadata": {
        "id": "6HLOTgT5SEhJ"
      },
      "source": [
        "BACKBONE = 'resnet34'\n"
      ],
      "execution_count": 6,
      "outputs": []
    },
    {
      "cell_type": "code",
      "metadata": {
        "id": "dh3umEMxSGfX"
      },
      "source": [
        "filepath = '/content/drive/MyDrive/ds000224/'\n",
        "dirnames = [s for s in os.listdir(filepath) if s.startswith('sub')]\n",
        "filename = [f for f in os.listdir(filepath+dirnames[0]) ]"
      ],
      "execution_count": 7,
      "outputs": []
    },
    {
      "cell_type": "code",
      "metadata": {
        "colab": {
          "base_uri": "https://localhost:8080/"
        },
        "id": "2B0IVVZmDaGz",
        "outputId": "0553fd1a-b364-441a-ce0c-5046178bc13d"
      },
      "source": [
        "filename"
      ],
      "execution_count": 8,
      "outputs": [
        {
          "output_type": "execute_result",
          "data": {
            "text/plain": [
              "['t1s.nii.gz', 'tofar_in_t1s.nii.gz', 't1.nii.gz', 'tofar_in_t1.nii.gz']"
            ]
          },
          "metadata": {},
          "execution_count": 8
        }
      ]
    },
    {
      "cell_type": "code",
      "metadata": {
        "id": "E_GIOrs9hDDz"
      },
      "source": [
        "def min_max(x):\n",
        "    # x: numpy array\n",
        "    x = (x - np.min(x)) / (np.max(x) - np.min(x))\n",
        "    return x"
      ],
      "execution_count": 9,
      "outputs": []
    },
    {
      "cell_type": "code",
      "metadata": {
        "id": "C3dduk2oSLTL"
      },
      "source": [
        "# # define model\n",
        "# model = sm.Unet(BACKBONE, input_shape=(None,None,3),encoder_weights='imagenet')\n",
        "# model.compile(\n",
        "#     'Adamax',\n",
        "#     loss=sm.losses.bce_jaccard_loss,\n",
        "#     metrics=[sm.metrics.iou_score],\n",
        "# )"
      ],
      "execution_count": 10,
      "outputs": []
    },
    {
      "cell_type": "code",
      "metadata": {
        "id": "fqvXiNSc_vW_"
      },
      "source": [
        "model = tf.keras.models.load_model('/content/drive/MyDrive/saved_model/9Adamax', custom_objects={'iou_score':sm.metrics.iou_score,'binary_crossentropy_plus_jaccard_loss':sm.losses.bce_jaccard_loss})"
      ],
      "execution_count": 11,
      "outputs": []
    },
    {
      "cell_type": "code",
      "metadata": {
        "colab": {
          "base_uri": "https://localhost:8080/"
        },
        "id": "cIyW7IsShj17",
        "outputId": "3cbb8bde-2695-43d3-c924-46d57056761a"
      },
      "source": [
        "groundsegs = [nib.load(filepath+dirnames[0]+'/tofar_in_t1.nii.gz').get_data().astype(np.float32)]\n",
        "t1s = [nib.load(filepath+dirnames[0]+'/t1.nii.gz').get_data().astype(np.float32) ]\n",
        "print(\"t1s shape = \" + str(t1s[0].shape) + \" groundsegs shape = \" + str(groundsegs[0].shape))"
      ],
      "execution_count": 12,
      "outputs": [
        {
          "output_type": "stream",
          "text": [
            "/usr/local/lib/python3.7/dist-packages/ipykernel_launcher.py:1: DeprecationWarning: get_data() is deprecated in favor of get_fdata(), which has a more predictable return type. To obtain get_data() behavior going forward, use numpy.asanyarray(img.dataobj).\n",
            "\n",
            "* deprecated from version: 3.0\n",
            "* Will raise <class 'nibabel.deprecator.ExpiredDeprecationError'> as of version: 5.0\n",
            "  \"\"\"Entry point for launching an IPython kernel.\n",
            "/usr/local/lib/python3.7/dist-packages/ipykernel_launcher.py:2: DeprecationWarning: get_data() is deprecated in favor of get_fdata(), which has a more predictable return type. To obtain get_data() behavior going forward, use numpy.asanyarray(img.dataobj).\n",
            "\n",
            "* deprecated from version: 3.0\n",
            "* Will raise <class 'nibabel.deprecator.ExpiredDeprecationError'> as of version: 5.0\n",
            "  \n"
          ],
          "name": "stderr"
        },
        {
          "output_type": "stream",
          "text": [
            "t1s shape = (224, 256, 256) groundsegs shape = (224, 256, 256)\n"
          ],
          "name": "stdout"
        }
      ]
    },
    {
      "cell_type": "code",
      "metadata": {
        "colab": {
          "base_uri": "https://localhost:8080/"
        },
        "id": "Zoxr925bHRc8",
        "outputId": "0030a49d-f917-4cb7-f2a6-ba11ad04dd1c"
      },
      "source": [
        "for s in range(len(groundsegs)):\n",
        "  groundsegs[s][groundsegs[s]<0.5] = 0\n",
        "  groundsegs[s][groundsegs[s]>=0.5] = 1\n",
        "  t1s[s] = min_max(t1s[s])  \n",
        "\n",
        "for i in range(len(groundsegs)):\n",
        "  # x,y,z = groundsegs[i].shape\n",
        "  # a= np.zeros(z)\n",
        "  # for j in  range(z):\n",
        "  #   a[j]= np.sum(groundsegs[i][:,:,j])\n",
        "  # min = np.min(a.nonzero())\n",
        "  # max = np.max(a.nonzero())\n",
        "  # groundsegs[i] = np.swapaxes(groundsegs[i][int(x%32*0.5):-int(x%32*0.5),:,min:max],0,2)\n",
        "  # t1s[i] = np.swapaxes(t1s[i][int(x%32*0.5):-int(x%32*0.5),:,min:max],0,2)\n",
        "  groundsegs[i] = np.swapaxes(groundsegs[i][:,:,90:220],0,2)\n",
        "  t1s[i] = np.swapaxes(t1s[i][:,:,90:220],0,2)  \n",
        "for i in range(len(groundsegs)):\n",
        "\n",
        "  groundsegs[i] = np.expand_dims(groundsegs[i],axis=3)\n",
        "  t1s[i] = np.expand_dims(t1s[i],axis=3)\n",
        "  t1s[i] = np.tile(t1s[i],[1,1,1,3])\n",
        "print(\"t1 shape = \" + str(t1s[i].shape) + \" groundseg shape = \" + str(groundsegs[i].shape))"
      ],
      "execution_count": 13,
      "outputs": [
        {
          "output_type": "stream",
          "text": [
            "t1 shape = (130, 256, 224, 3) groundseg shape = (130, 256, 224, 1)\n"
          ],
          "name": "stdout"
        }
      ]
    },
    {
      "cell_type": "code",
      "metadata": {
        "colab": {
          "base_uri": "https://localhost:8080/",
          "height": 193
        },
        "id": "MgA9i9Enu0PC",
        "outputId": "17a8657d-dedc-49ef-de89-9337bed573ca"
      },
      "source": [
        "plt.subplot(1,3,1); plt.imshow(np.max(groundsegs[0][:,:,:,0],axis=0)); plt.title('original')\n"
      ],
      "execution_count": 14,
      "outputs": [
        {
          "output_type": "execute_result",
          "data": {
            "text/plain": [
              "Text(0.5, 1.0, 'original')"
            ]
          },
          "metadata": {},
          "execution_count": 14
        },
        {
          "output_type": "display_data",
          "data": {
            "image/png": "[encoded data removed]",
            "text/plain": [
              "<Figure size 432x288 with 1 Axes>"
            ]
          },
          "metadata": {
            "needs_background": "light"
          }
        }
      ]
    },
    {
      "cell_type": "code",
      "metadata": {
        "colab": {
          "base_uri": "https://localhost:8080/"
        },
        "id": "KmjFCD10SWem",
        "outputId": "75d6d26d-aa34-41dc-dcbf-eb6331dd77a2"
      },
      "source": [
        "for p in range(10):\n",
        "  groundsegs = [nib.load(filepath+d+'/tofar_in_t1.nii.gz').get_data().astype(np.float32) for d in dirnames[2*p:2*p+2]]\n",
        "  t1s = [nib.load(filepath+d+'/t1.nii.gz').get_data().astype(np.float32) for d in dirnames[2*p:2*p+2]]\n",
        "  print(\"t1s shape = \" + str(t1s[0].shape) + \" groundsegs shape = \" + str(groundsegs[0].shape))\n",
        "  print(\"swapping axes...\")\n",
        "  for s in range(len(groundsegs)):\n",
        "    groundsegs[s][groundsegs[s]<0.5] = 0\n",
        "    groundsegs[s][groundsegs[s]>=0.5] = 1\n",
        "    t1s[s] = min_max(t1s[s]) \n",
        "\n",
        "  for i in range(len(groundsegs)):\n",
        "    x,y,z = groundsegs[i].shape\n",
        "    a= np.zeros(z)\n",
        "    for j in  range(z):\n",
        "      a[j]= np.sum(groundsegs[i][:,:,j])\n",
        "    min = np.min(a.nonzero())\n",
        "    max = np.max(a.nonzero())\n",
        "    groundsegs[i] = np.swapaxes(groundsegs[i][int(x%32*0.5):-int(x%32*0.5),:,min:max],0,2)\n",
        "    t1s[i] = np.swapaxes(t1s[i][int(x%32*0.5):-int(x%32*0.5),:,min:max],0,2)\n",
        "    # groundsegs[i] = np.swapaxes(groundsegs[i][:,:,110:190],0,2)\n",
        "    # t1s[i] = np.swapaxes(t1s[i][:,:,110:190],0,2)\n",
        "\n",
        "  \n",
        "  print(\"t1 shape = \" + str(t1s[i].shape) + \" groundseg shape = \" + str(groundsegs[i].shape))\n",
        "  print(\"expanding dimensions and tiling input...\")\n",
        "  for i in range(len(groundsegs)):\n",
        "\n",
        "    groundsegs[i] = np.expand_dims(groundsegs[i],axis=3)\n",
        "    t1s[i] = np.expand_dims(t1s[i],axis=3)\n",
        "    t1s[i] = np.tile(t1s[i],[1,1,1,3])\n",
        "  print(\"t1 shape = \" + str(t1s[i].shape) + \" groundseg shape = \" + str(groundsegs[i].shape))\n",
        "  x_train = t1s[0]\n",
        "  y_train = groundsegs[0]\n",
        "\n",
        "  x_val = t1s[1]\n",
        "  y_val = groundsegs[1]   \n",
        "  print(\"x_train shape = \" + str(x_train.shape) + \" x_val shape = \" + str(x_val.shape))\n",
        "  print(\"y_train shape = \" + str(y_train.shape) + \" y_val shape = \" + str(y_val.shape))\n",
        "  history = model.fit(\n",
        "      x=x_train,\n",
        "      y=y_train,\n",
        "      batch_size=16,\n",
        "      epochs=100,\n",
        "      validation_data=(x_val, y_val),\n",
        "    )\n",
        "  # model.save('/content/drive/MyDrive/saved_model/d'+str(p)+'Adamax')\n",
        "  # with open('/content/drive/MyDrive/saved_model/d'+str(p)+'trainHistoryDict.txt', 'wb') as file_pi:\n",
        "  #   pickle.dump(history.history, file_pi)"
      ],
      "execution_count": null,
      "outputs": [
        {
          "output_type": "stream",
          "text": [
            "/usr/local/lib/python3.7/dist-packages/ipykernel_launcher.py:2: DeprecationWarning: get_data() is deprecated in favor of get_fdata(), which has a more predictable return type. To obtain get_data() behavior going forward, use numpy.asanyarray(img.dataobj).\n",
            "\n",
            "* deprecated from version: 3.0\n",
            "* Will raise <class 'nibabel.deprecator.ExpiredDeprecationError'> as of version: 5.0\n",
            "  \n",
            "/usr/local/lib/python3.7/dist-packages/ipykernel_launcher.py:3: DeprecationWarning: get_data() is deprecated in favor of get_fdata(), which has a more predictable return type. To obtain get_data() behavior going forward, use numpy.asanyarray(img.dataobj).\n",
            "\n",
            "* deprecated from version: 3.0\n",
            "* Will raise <class 'nibabel.deprecator.ExpiredDeprecationError'> as of version: 5.0\n",
            "  This is separate from the ipykernel package so we can avoid doing imports until\n"
          ],
          "name": "stderr"
        },
        {
          "output_type": "stream",
          "text": [
            "t1s shape = (224, 256, 256) groundsegs shape = (224, 256, 256)\n",
            "swapping axes...\n",
            "t1 shape = (162, 256, 0) groundseg shape = (162, 256, 0)\n",
            "expanding dimensions and tiling input...\n",
            "t1 shape = (162, 256, 0, 3) groundseg shape = (162, 256, 0, 1)\n",
            "x_train shape = (175, 256, 0, 3) x_val shape = (162, 256, 0, 3)\n",
            "y_train shape = (175, 256, 0, 1) y_val shape = (162, 256, 0, 1)\n",
            "Epoch 1/100\n"
          ],
          "name": "stdout"
        }
      ]
    },
    {
      "cell_type": "code",
      "metadata": {
        "id": "iBPhQ_OTeqTL"
      },
      "source": [
        "pred = model.predict(t1s[0])\n"
      ],
      "execution_count": 15,
      "outputs": []
    },
    {
      "cell_type": "code",
      "metadata": {
        "colab": {
          "base_uri": "https://localhost:8080/",
          "height": 176
        },
        "id": "f-oYReLk6b32",
        "outputId": "15eba935-96b5-4767-fd6b-bf3ef3dcd387"
      },
      "source": [
        "plt.subplot(1,3,1); plt.imshow(np.max(groundsegs[0][:,:,:,0],axis=0)); plt.title('original')\n",
        "plt.subplot(1,3,2); plt.imshow(np.max(pred[:,:,:,0],axis=0)); plt.title('pred1')\n",
        "plt.show()"
      ],
      "execution_count": 16,
      "outputs": [
        {
          "output_type": "display_data",
          "data": {
            "image/png": "[encoded data removed]",
            "text/plain": [
              "<Figure size 432x288 with 2 Axes>"
            ]
          },
          "metadata": {
            "needs_background": "light"
          }
        }
      ]
    },
    {
      "cell_type": "code",
      "metadata": {
        "id": "t_hX9wl86l-Y",
        "colab": {
          "base_uri": "https://localhost:8080/"
        },
        "outputId": "ebe700c4-5f99-4731-f944-16a49bb30551"
      },
      "source": [
        "model.save('/content/drive/MyDrive/saved_model/9Adamax')\n"
      ],
      "execution_count": 13,
      "outputs": [
        {
          "output_type": "stream",
          "text": [
            "INFO:tensorflow:Assets written to: /content/drive/MyDrive/saved_model/9Adamax/assets\n"
          ],
          "name": "stdout"
        },
        {
          "output_type": "stream",
          "text": [
            "/usr/local/lib/python3.7/dist-packages/keras/utils/generic_utils.py:497: CustomMaskWarning: Custom mask layers require a config and must override get_config. When loading, the custom mask layer must be passed to the custom_objects argument.\n",
            "  category=CustomMaskWarning)\n"
          ],
          "name": "stderr"
        }
      ]
    },
    {
      "cell_type": "code",
      "metadata": {
        "id": "InPAkNA_onV_"
      },
      "source": [
        ""
      ],
      "execution_count": null,
      "outputs": []
    }
  ]
}